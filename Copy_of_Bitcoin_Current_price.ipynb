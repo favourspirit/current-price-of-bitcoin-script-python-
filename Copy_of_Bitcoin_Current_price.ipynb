{
  "nbformat": 4,
  "nbformat_minor": 0,
  "metadata": {
    "colab": {
      "name": "Copy of Bitcoin Current price.ipynb",
      "provenance": [],
      "collapsed_sections": [],
      "authorship_tag": "ABX9TyNR3k3Q0qL46DVqxqdPDgy6",
      "include_colab_link": true
    },
    "kernelspec": {
      "name": "python3",
      "display_name": "Python 3"
    }
  },
  "cells": [
    {
      "cell_type": "markdown",
      "metadata": {
        "id": "view-in-github",
        "colab_type": "text"
      },
      "source": [
        "<a href=\"https://colab.research.google.com/github/favourspirit/current-price-of-bitcoin-script-python-/blob/master/Copy_of_Bitcoin_Current_price.ipynb\" target=\"_parent\"><img src=\"https://colab.research.google.com/assets/colab-badge.svg\" alt=\"Open In Colab\"/></a>"
      ]
    },
    {
      "cell_type": "code",
      "metadata": {
        "id": "5GHVpwYOOIQY",
        "colab_type": "code",
        "colab": {}
      },
      "source": [
        "#Description: Get the current price of Bitcoin\n",
        "\n",
        "\n",
        "#Resource: \n",
        "#1. https://realpython.com/python-bitcoin-ifttt/\n",
        "#2. https://www.saltycrane.com/blog/2008/06/how-to-get-current-date-and-time-in/"
      ],
      "execution_count": 0,
      "outputs": []
    },
    {
      "cell_type": "code",
      "metadata": {
        "id": "cw9RfKsPO5D6",
        "colab_type": "code",
        "colab": {}
      },
      "source": [
        "#Import libraries\n",
        "import requests\n",
        "from datetime import datetime"
      ],
      "execution_count": 0,
      "outputs": []
    },
    {
      "cell_type": "code",
      "metadata": {
        "id": "3r7Z3HuLPClR",
        "colab_type": "code",
        "colab": {}
      },
      "source": [
        "\n",
        "#Get the URL ticker to get the .json files of the crypto currencies\n",
        "TICKER_API_URL = 'https://api.coinmarketcap.com/v1/ticker/'"
      ],
      "execution_count": 0,
      "outputs": []
    },
    {
      "cell_type": "code",
      "metadata": {
        "id": "Wyp4B017Psjd",
        "colab_type": "code",
        "colab": {}
      },
      "source": [
        "#Function to get the latest crypto currency price of a specific 'crypto' e.g bitcoin, litecoin, etc.\n",
        "# crypto = {bitcoin, litecoin, ethereum, ...}\n",
        "def get_latest_crypto_price( crypto ):\n",
        "    response = requests.get(TICKER_API_URL+crypto)\n",
        "    response_json = response.json()\n",
        "    # Convert the price to a floating point number\n",
        "    return float(response_json[0]['price_usd'])"
      ],
      "execution_count": 0,
      "outputs": []
    },
    {
      "cell_type": "code",
      "metadata": {
        "id": "f6KGlGlSPzal",
        "colab_type": "code",
        "outputId": "834cb2bb-f816-435c-b5dc-337acd671bdd",
        "colab": {
          "base_uri": "https://localhost:8080/",
          "height": 248
        }
      },
      "source": [
        "#Test the function \n",
        "get_latest_crypto_price( 'bitcoin')"
      ],
      "execution_count": 0,
      "outputs": [
        {
          "output_type": "error",
          "ename": "KeyError",
          "evalue": "ignored",
          "traceback": [
            "\u001b[0;31m---------------------------------------------------------------------------\u001b[0m",
            "\u001b[0;31mKeyError\u001b[0m                                  Traceback (most recent call last)",
            "\u001b[0;32m<ipython-input-13-be65d416abe2>\u001b[0m in \u001b[0;36m<module>\u001b[0;34m()\u001b[0m\n\u001b[0;32m----> 1\u001b[0;31m \u001b[0mget_latest_crypto_price\u001b[0m\u001b[0;34m(\u001b[0m \u001b[0;34m'bitcoin'\u001b[0m\u001b[0;34m)\u001b[0m\u001b[0;34m\u001b[0m\u001b[0;34m\u001b[0m\u001b[0m\n\u001b[0m",
            "\u001b[0;32m<ipython-input-10-b6e9a7265424>\u001b[0m in \u001b[0;36mget_latest_crypto_price\u001b[0;34m(crypto)\u001b[0m\n\u001b[1;32m      3\u001b[0m     \u001b[0mresponse_json\u001b[0m \u001b[0;34m=\u001b[0m \u001b[0mresponse\u001b[0m\u001b[0;34m.\u001b[0m\u001b[0mjson\u001b[0m\u001b[0;34m(\u001b[0m\u001b[0;34m)\u001b[0m\u001b[0;34m\u001b[0m\u001b[0;34m\u001b[0m\u001b[0m\n\u001b[1;32m      4\u001b[0m     \u001b[0;31m# Convert the price to a floating point number\u001b[0m\u001b[0;34m\u001b[0m\u001b[0;34m\u001b[0m\u001b[0;34m\u001b[0m\u001b[0m\n\u001b[0;32m----> 5\u001b[0;31m     \u001b[0;32mreturn\u001b[0m \u001b[0mfloat\u001b[0m\u001b[0;34m(\u001b[0m\u001b[0mresponse_json\u001b[0m\u001b[0;34m[\u001b[0m\u001b[0;36m0\u001b[0m\u001b[0;34m]\u001b[0m\u001b[0;34m[\u001b[0m\u001b[0;34m'price_usd'\u001b[0m\u001b[0;34m]\u001b[0m\u001b[0;34m)\u001b[0m\u001b[0;34m\u001b[0m\u001b[0;34m\u001b[0m\u001b[0m\n\u001b[0m",
            "\u001b[0;31mKeyError\u001b[0m: 0"
          ]
        }
      ]
    },
    {
      "cell_type": "code",
      "metadata": {
        "id": "Tr-LTtntRUU7",
        "colab_type": "code",
        "colab": {}
      },
      "source": [
        "BITCOIN_PRICE_THRESHOLD = 10000  # A threshold set to whatever you like"
      ],
      "execution_count": 0,
      "outputs": []
    },
    {
      "cell_type": "code",
      "metadata": {
        "id": "7K1SgU1rRdZi",
        "colab_type": "code",
        "colab": {}
      },
      "source": [
        "\n",
        "def main():\n",
        "  \n",
        "  #Set last_price to -1 to indicate the last price hasn't been recorded yet\n",
        "  last_price = -1\n",
        "  \n",
        "  while True:\n",
        "    \n",
        "    crypto = 'bitcoin'\n",
        "    price = get_latest_crypto_price(crypto)\n",
        "   \n",
        "    #You can use the following variables to get specific datetime\n",
        "    #year = datetime.now().year\n",
        "    #month = datetime.now().month\n",
        "    #day = datetime.now().day\n",
        "    #hour = datetime.now().hour\n",
        "    #minute = datetime.now().minute\n",
        "    #second = datetime.now().second\n",
        "    #microsecond = datetime.now().microsecond\n",
        "    \n",
        "    now = datetime.now()\n",
        "    now.strftime(\"%Y-%m-%d %H:%M\")#Returns format (YYYY-mm-DDTHH:MM:SS.MS)\n",
        "    \n",
        "    #Check if the crypto currency price is less than your threshold\n",
        "    if price < BITCOIN_PRICE_THRESHOLD:\n",
        "      print('The Crypto is lower than your threshold')\n",
        "    \n",
        "    #Print the price of bitcoin only if the current price is different from the last price\n",
        "    if price != last_price:\n",
        "      print(now.isoformat() , ' Bitcoin price = ',price)\n",
        "      last_price = price #update last_price to be the current price"
      ],
      "execution_count": 0,
      "outputs": []
    },
    {
      "cell_type": "code",
      "metadata": {
        "id": "rH5166BiRx6L",
        "colab_type": "code",
        "colab": {}
      },
      "source": [
        "main()"
      ],
      "execution_count": 0,
      "outputs": []
    },
    {
      "cell_type": "code",
      "metadata": {
        "id": "p75UFSTGTZt-",
        "colab_type": "code",
        "colab": {}
      },
      "source": [
        "git init"
      ],
      "execution_count": 0,
      "outputs": []
    }
  ]
}